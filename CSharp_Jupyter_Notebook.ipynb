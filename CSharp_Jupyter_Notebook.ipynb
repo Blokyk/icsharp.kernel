{
 "cells": [
  {
   "cell_type": "markdown",
   "metadata": {},
   "source": [
    "# C# Jupyter Notebook"
   ]
  },
  {
   "cell_type": "markdown",
   "metadata": {},
   "source": [
    "This notebook demonstrates the features of the C# kernel for Jupyter Notebook. The C# Kernel plugin is using [Roslyn](https://github.com/dotnet/roslyn) as a backend to implement C# scripting. \n",
    "\n",
    "# Basics in C# #\n",
    "\n",
    "The kernel is using C# scripting which is a little different than using C# with Visual Studio. We can define variables and print out their values or evaluate expressions. "
   ]
  },
  {
   "cell_type": "code",
   "execution_count": 5,
   "metadata": {
    "collapsed": false
   },
   "outputs": [
    {
     "data": {
      "text/plain": [
       "14323456"
      ]
     },
     "execution_count": 5,
     "metadata": {},
     "output_type": "execute_result"
    }
   ],
   "source": [
    "int someInteger = 14323456;\n",
    "someInteger"
   ]
  },
  {
   "cell_type": "code",
   "execution_count": 6,
   "metadata": {
    "collapsed": false
   },
   "outputs": [
    {
     "data": {
      "text/plain": [
       "3.1428571428571428"
      ]
     },
     "execution_count": 6,
     "metadata": {},
     "output_type": "execute_result"
    }
   ],
   "source": [
    "double someDouble = 22.0/7;\n",
    "someDouble"
   ]
  },
  {
   "cell_type": "markdown",
   "metadata": {},
   "source": [
    "It is also possible to evaluate expressions and print it out. "
   ]
  },
  {
   "cell_type": "code",
   "execution_count": 7,
   "metadata": {
    "collapsed": false
   },
   "outputs": [
    {
     "data": {
      "text/plain": [
       "38"
      ]
     },
     "execution_count": 7,
     "metadata": {},
     "output_type": "execute_result"
    }
   ],
   "source": [
    "(1233+7)/32"
   ]
  },
  {
   "cell_type": "markdown",
   "metadata": {},
   "source": [
    "Console output also can be used to print out values."
   ]
  },
  {
   "cell_type": "code",
   "execution_count": 11,
   "metadata": {
    "collapsed": false
   },
   "outputs": [
    {
     "data": {
      "text/plain": [
       "The result is 12451.\n"
      ]
     },
     "metadata": {},
     "output_type": "display_data"
    }
   ],
   "source": [
    "var z = 12451;\n",
    "\n",
    "Console.WriteLine($\"The result is {z}.\");"
   ]
  },
  {
   "cell_type": "markdown",
   "metadata": {},
   "source": [
    "Here is an array and a list definition"
   ]
  },
  {
   "cell_type": "code",
   "execution_count": 12,
   "metadata": {
    "collapsed": false
   },
   "outputs": [
    {
     "data": {
      "text/plain": [
       "int[5] { 1, 2, 3, 5, 7 }"
      ]
     },
     "execution_count": 12,
     "metadata": {},
     "output_type": "execute_result"
    }
   ],
   "source": [
    "var l = new int[] {1, 2, 3, 5, 7};\n",
    "l"
   ]
  },
  {
   "cell_type": "code",
   "execution_count": 13,
   "metadata": {
    "collapsed": false
   },
   "outputs": [
    {
     "data": {
      "text/plain": [
       "List<int>(5) { 1, 2, 3, 4, 5 }"
      ]
     },
     "execution_count": 13,
     "metadata": {},
     "output_type": "execute_result"
    }
   ],
   "source": [
    "var li = new List<int>() {1, 2, 3, 4, 5};\n",
    "li"
   ]
  },
  {
   "cell_type": "markdown",
   "metadata": {},
   "source": [
    "It is also possible define methods and then call them later"
   ]
  },
  {
   "cell_type": "code",
   "execution_count": 14,
   "metadata": {
    "collapsed": false
   },
   "outputs": [
    {
     "data": {
      "text/plain": [
       "25"
      ]
     },
     "execution_count": 14,
     "metadata": {},
     "output_type": "execute_result"
    }
   ],
   "source": [
    "int Add(int x, int y) { return x+y; }\n",
    "\n",
    "Add(12,13)"
   ]
  },
  {
   "cell_type": "markdown",
   "metadata": {},
   "source": [
    "## Tables\n",
    "\n",
    "There are a few extension that C# kernel defines that would help to present data in a better looking format. For example, printing out collection of classes as HTML or displaying mathematical figures using LaTex. "
   ]
  },
  {
   "cell_type": "code",
   "execution_count": 2,
   "metadata": {
    "collapsed": false
   },
   "outputs": [
    {
     "data": {
      "text/html": [
       "<table><thead><tr><th>FirstName</th><th>LastName</th><th>Age</th></tr></thead><tbody><tr><td>John</td><td>Doe</td><td>35</td></tr><tr><td>Jane</td><td>Doe</td><td>26</td></tr></tbody></table>"
      ]
     },
     "execution_count": 2,
     "metadata": {},
     "output_type": "execute_result"
    }
   ],
   "source": [
    "public class Person\n",
    "{\n",
    "    public string FirstName { get; set;}\n",
    "    public string LastName { get; set; }\n",
    "    public int Age {get; set; }\n",
    "}; \n",
    "\n",
    "List<Person> persons = new List<Person> {\n",
    "    new Person {FirstName = \"John\", LastName = \"Doe\", Age = 35}, \n",
    "    new Person {FirstName = \"Jane\", LastName = \"Doe\", Age = 26}, \n",
    "};\n",
    "\n",
    "persons.AsTable()"
   ]
  },
  {
   "cell_type": "markdown",
   "metadata": {},
   "source": [
    "It is also possible to select the columns to display."
   ]
  },
  {
   "cell_type": "code",
   "execution_count": 4,
   "metadata": {
    "collapsed": false
   },
   "outputs": [
    {
     "data": {
      "text/html": [
       "<table><thead><tr><th>FirstName</th><th>Age</th></tr></thead><tbody><tr><td>John</td><td>35</td></tr><tr><td>Jane</td><td>26</td></tr></tbody></table>"
      ]
     },
     "execution_count": 4,
     "metadata": {},
     "output_type": "execute_result"
    }
   ],
   "source": [
    "persons.AsTable(new List<string> {\"FirstName\", \"Age\"})"
   ]
  },
  {
   "cell_type": "markdown",
   "metadata": {},
   "source": [
    "## Using LaTex"
   ]
  },
  {
   "cell_type": "code",
   "execution_count": 1,
   "metadata": {
    "collapsed": false
   },
   "outputs": [
    {
     "data": {
      "text/latex": [
       "$$f(x)$$"
      ]
     },
     "execution_count": 1,
     "metadata": {},
     "output_type": "execute_result"
    }
   ],
   "source": [
    "\"f(x)\".AsMath()"
   ]
  },
  {
   "cell_type": "code",
   "execution_count": 3,
   "metadata": {
    "collapsed": false
   },
   "outputs": [
    {
     "data": {
      "text/latex": [
       "$$x=\\frac{1+y}{1+2z^2}$$"
      ]
     },
     "execution_count": 3,
     "metadata": {},
     "output_type": "execute_result"
    }
   ],
   "source": [
    "\"x=\\\\frac{1+y}{1+2z^2}\".AsMath()"
   ]
  },
  {
   "cell_type": "markdown",
   "metadata": {},
   "source": [
    "# HTML\n",
    "\n",
    "It is also possible to inline html in the notebook. It is good for inlining html. "
   ]
  },
  {
   "cell_type": "code",
   "execution_count": 1,
   "metadata": {
    "collapsed": false
   },
   "outputs": [
    {
     "data": {
      "text/html": [
       "<div style=\"background-color: #007fff; font-weight: bold;\">Would you like some toast?</div>"
      ]
     },
     "execution_count": 1,
     "metadata": {},
     "output_type": "execute_result"
    }
   ],
   "source": [
    "var htmlContent = \"<div style=\\\"background-color: #007fff; font-weight: bold;\\\">Would you like some toast?</div>\";\n",
    "\n",
    "htmlContent.AsHtml()"
   ]
  },
  {
   "cell_type": "markdown",
   "metadata": {},
   "source": [
    "Or embedding video... "
   ]
  },
  {
   "cell_type": "code",
   "execution_count": 3,
   "metadata": {
    "collapsed": false
   },
   "outputs": [
    {
     "data": {
      "text/html": [
       "<video width=\"480\" controls poster=\"https://archive.org/download/WebmVp8Vorbis/webmvp8.gif\" ><source src=\"https://archive.org/download/WebmVp8Vorbis/webmvp8.webm\" type=\"video/webm\"><source src=\"https://archive.org/download/WebmVp8Vorbis/webmvp8_512kb.mp4\" type=\"video/mp4\"><source src=\"https://archive.org/download/WebmVp8Vorbis/webmvp8.ogv\" type=\"video/ogg\">Your browser doesn't support HTML5 video tag.</video>"
      ]
     },
     "execution_count": 3,
     "metadata": {},
     "output_type": "execute_result"
    }
   ],
   "source": [
    "var video = \"<video width=\\\"480\\\" controls poster=\\\"https://archive.org/download/WebmVp8Vorbis/webmvp8.gif\\\" >\"\n",
    "   + \"<source src=\\\"https://archive.org/download/WebmVp8Vorbis/webmvp8.webm\\\" type=\\\"video/webm\\\">\" \n",
    "   + \"<source src=\\\"https://archive.org/download/WebmVp8Vorbis/webmvp8_512kb.mp4\\\" type=\\\"video/mp4\\\">\"\n",
    "   + \"<source src=\\\"https://archive.org/download/WebmVp8Vorbis/webmvp8.ogv\\\" type=\\\"video/ogg\\\">\"\n",
    "   + \"Your browser doesn't support HTML5 video tag.\"\n",
    "   + \"</video>\"; \n",
    "   \n",
    "video.AsHtml()"
   ]
  },
  {
   "cell_type": "markdown",
   "metadata": {},
   "source": [
    "# Charts\n",
    "\n",
    "It is also possible to render graph using using XPlot.Plotly. For example: "
   ]
  },
  {
   "cell_type": "code",
   "execution_count": 5,
   "metadata": {
    "collapsed": false
   },
   "outputs": [
    {
     "name": "stderr",
     "output_type": "stream",
     "text": [
      "(1,7): error CS1504: Source file 'XPlot.Plotly.csx' could not be opened -- Could not find file.\n"
     ]
    }
   ],
   "source": [
    "#load \"XPlot.Plotly.csx\"\n",
    "\n",
    "new int[,] data = {{1, 20, 30}, {20, 1, 60}, {30, 60 ,1}}; \n"
   ]
  },
  {
   "cell_type": "code",
   "execution_count": null,
   "metadata": {
    "collapsed": true
   },
   "outputs": [],
   "source": []
  }
 ],
 "metadata": {
  "kernelspec": {
   "display_name": "C#",
   "language": "csharp",
   "name": "icsharpkernel"
  },
  "language": "csharp",
  "language_info": {
   "codemirror_mode": "",
   "file_extension": ".cs",
   "mimetype": "text/x-csharp",
   "name": "csharp",
   "nbconvert_exporter": "",
   "pygments_lexer": "",
   "version": "6.0.0.0"
  }
 },
 "nbformat": 4,
 "nbformat_minor": 2
}
