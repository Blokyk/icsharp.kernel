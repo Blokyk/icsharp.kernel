{
 "cells": [
  {
   "cell_type": "markdown",
   "metadata": {},
   "source": [
    "# C# Jupyter Notebook"
   ]
  },
  {
   "cell_type": "markdown",
   "metadata": {},
   "source": [
    "This notebook demonstrates the features of the C# kernel for Jupyter Notebook. The C# Kernel plugin is using [Roslyn](https://github.com/dotnet/roslyn) as a backend to implement C# scripting. \n",
    "\n",
    "# Basics in C# #\n",
    "\n",
    "The kernel is using C# scripting which is a little different than using C# with Visual Studio. We can define variables and print out their values or evaluate expressions. "
   ]
  },
  {
   "cell_type": "code",
   "execution_count": 1,
   "metadata": {
    "collapsed": false
   },
   "outputs": [
    {
     "data": {
      "text/plain": [
       "14323456"
      ]
     },
     "execution_count": 1,
     "metadata": {},
     "output_type": "execute_result"
    }
   ],
   "source": [
    "int someInteger = 14323456;\n",
    "someInteger"
   ]
  },
  {
   "cell_type": "code",
   "execution_count": 2,
   "metadata": {
    "collapsed": false
   },
   "outputs": [
    {
     "data": {
      "text/plain": [
       "3.1428571428571428"
      ]
     },
     "execution_count": 2,
     "metadata": {},
     "output_type": "execute_result"
    }
   ],
   "source": [
    "double someDouble = 22.0/7;\n",
    "someDouble"
   ]
  },
  {
   "cell_type": "markdown",
   "metadata": {},
   "source": [
    "It is also possible to evaluate expressions and print it out. "
   ]
  },
  {
   "cell_type": "code",
   "execution_count": 3,
   "metadata": {
    "collapsed": false
   },
   "outputs": [
    {
     "data": {
      "text/plain": [
       "38"
      ]
     },
     "execution_count": 3,
     "metadata": {},
     "output_type": "execute_result"
    }
   ],
   "source": [
    "(1233+7)/32"
   ]
  },
  {
   "cell_type": "markdown",
   "metadata": {},
   "source": [
    "Console output also can be used to print out values."
   ]
  },
  {
   "cell_type": "code",
   "execution_count": 4,
   "metadata": {
    "collapsed": false
   },
   "outputs": [
    {
     "data": {
      "text/plain": [
       "The result is 12451.\r\n"
      ]
     },
     "metadata": {},
     "output_type": "display_data"
    }
   ],
   "source": [
    "var z = 12451;\n",
    "\n",
    "Console.WriteLine($\"The result is {z}.\");"
   ]
  },
  {
   "cell_type": "markdown",
   "metadata": {},
   "source": [
    "Here is an array and a list definition"
   ]
  },
  {
   "cell_type": "code",
   "execution_count": 5,
   "metadata": {
    "collapsed": false
   },
   "outputs": [
    {
     "data": {
      "text/plain": [
       "int[5] { 1, 2, 3, 5, 7 }"
      ]
     },
     "execution_count": 5,
     "metadata": {},
     "output_type": "execute_result"
    }
   ],
   "source": [
    "var l = new int[] {1, 2, 3, 5, 7};\n",
    "l"
   ]
  },
  {
   "cell_type": "code",
   "execution_count": 6,
   "metadata": {
    "collapsed": false
   },
   "outputs": [
    {
     "data": {
      "text/plain": [
       "List<int>(5) { 1, 2, 3, 4, 5 }"
      ]
     },
     "execution_count": 6,
     "metadata": {},
     "output_type": "execute_result"
    }
   ],
   "source": [
    "var li = new List<int>() {1, 2, 3, 4, 5};\n",
    "li"
   ]
  },
  {
   "cell_type": "markdown",
   "metadata": {},
   "source": [
    "It is also possible define methods and then call them later"
   ]
  },
  {
   "cell_type": "code",
   "execution_count": 7,
   "metadata": {
    "collapsed": false
   },
   "outputs": [
    {
     "data": {
      "text/plain": [
       "25"
      ]
     },
     "execution_count": 7,
     "metadata": {},
     "output_type": "execute_result"
    }
   ],
   "source": [
    "int Add(int x, int y) { return x+y; }\n",
    "\n",
    "Add(12,13)"
   ]
  },
  {
   "cell_type": "markdown",
   "metadata": {},
   "source": [
    "## Tables\n",
    "\n",
    "There are a few extension that C# kernel defines that would help to present data in a better looking format. For example, printing out collection of classes as HTML or displaying mathematical figures using LaTex. "
   ]
  },
  {
   "cell_type": "code",
   "execution_count": 8,
   "metadata": {
    "collapsed": false
   },
   "outputs": [
    {
     "data": {
      "text/html": [
       "<table><thead><tr><th>FirstName</th><th>LastName</th><th>Age</th></tr></thead><tbody><tr><td>John</td><td>Doe</td><td>35</td></tr><tr><td>Jane</td><td>Doe</td><td>26</td></tr></tbody></table>"
      ]
     },
     "execution_count": 8,
     "metadata": {},
     "output_type": "execute_result"
    }
   ],
   "source": [
    "public class Person\n",
    "{\n",
    "    public string FirstName { get; set;}\n",
    "    public string LastName { get; set; }\n",
    "    public int Age {get; set; }\n",
    "}; \n",
    "\n",
    "List<Person> persons = new List<Person> {\n",
    "    new Person {FirstName = \"John\", LastName = \"Doe\", Age = 35}, \n",
    "    new Person {FirstName = \"Jane\", LastName = \"Doe\", Age = 26}, \n",
    "};\n",
    "\n",
    "persons.AsTable()"
   ]
  },
  {
   "cell_type": "markdown",
   "metadata": {},
   "source": [
    "It is also possible to select the columns to display."
   ]
  },
  {
   "cell_type": "code",
   "execution_count": 9,
   "metadata": {
    "collapsed": false
   },
   "outputs": [
    {
     "data": {
      "text/html": [
       "<table><thead><tr><th>FirstName</th><th>Age</th></tr></thead><tbody><tr><td>John</td><td>35</td></tr><tr><td>Jane</td><td>26</td></tr></tbody></table>"
      ]
     },
     "execution_count": 9,
     "metadata": {},
     "output_type": "execute_result"
    }
   ],
   "source": [
    "persons.AsTable(new List<string> {\"FirstName\", \"Age\"})"
   ]
  },
  {
   "cell_type": "markdown",
   "metadata": {},
   "source": [
    "## Using LaTex"
   ]
  },
  {
   "cell_type": "code",
   "execution_count": 10,
   "metadata": {
    "collapsed": false
   },
   "outputs": [
    {
     "data": {
      "text/latex": [
       "$$f(x)$$"
      ]
     },
     "execution_count": 10,
     "metadata": {},
     "output_type": "execute_result"
    }
   ],
   "source": [
    "\"f(x)\".AsMath()"
   ]
  },
  {
   "cell_type": "code",
   "execution_count": 11,
   "metadata": {
    "collapsed": false
   },
   "outputs": [
    {
     "data": {
      "text/latex": [
       "$$x=\\frac{1+y}{1+2z^2}$$"
      ]
     },
     "execution_count": 11,
     "metadata": {},
     "output_type": "execute_result"
    }
   ],
   "source": [
    "\"x=\\\\frac{1+y}{1+2z^2}\".AsMath()"
   ]
  },
  {
   "cell_type": "markdown",
   "metadata": {},
   "source": [
    "# HTML\n",
    "\n",
    "It is also possible to inline html in the notebook. It is good for inlining html. "
   ]
  },
  {
   "cell_type": "code",
   "execution_count": 12,
   "metadata": {
    "collapsed": false
   },
   "outputs": [
    {
     "data": {
      "text/html": [
       "<div style=\"background-color: #007fff; font-weight: bold;\">Would you like some toast?</div>"
      ]
     },
     "execution_count": 12,
     "metadata": {},
     "output_type": "execute_result"
    }
   ],
   "source": [
    "var htmlContent = \"<div style=\\\"background-color: #007fff; font-weight: bold;\\\">Would you like some toast?</div>\";\n",
    "\n",
    "htmlContent.AsHtml()"
   ]
  },
  {
   "cell_type": "markdown",
   "metadata": {},
   "source": [
    "Or embedding video... "
   ]
  },
  {
   "cell_type": "code",
   "execution_count": 15,
   "metadata": {
    "collapsed": false
   },
   "outputs": [
    {
     "data": {
      "text/html": [
       "<video width=\"480\" controls poster=\"https://archive.org/download/WebmVp8Vorbis/webmvp8.gif\" ><source src=\"https://archive.org/download/WebmVp8Vorbis/webmvp8.webm\" type=\"video/webm\"><source src=\"https://archive.org/download/WebmVp8Vorbis/webmvp8_512kb.mp4\" type=\"video/mp4\"><source src=\"https://archive.org/download/WebmVp8Vorbis/webmvp8.ogv\" type=\"video/ogg\">Your browser doesn't support HTML5 video tag.</video>"
      ]
     },
     "execution_count": 15,
     "metadata": {},
     "output_type": "execute_result"
    }
   ],
   "source": [
    "var video = \"<video width=\\\"480\\\" controls poster=\\\"https://archive.org/download/WebmVp8Vorbis/webmvp8.gif\\\" >\"\n",
    "   + \"<source src=\\\"https://archive.org/download/WebmVp8Vorbis/webmvp8.webm\\\" type=\\\"video/webm\\\">\" \n",
    "   + \"<source src=\\\"https://archive.org/download/WebmVp8Vorbis/webmvp8_512kb.mp4\\\" type=\\\"video/mp4\\\">\"\n",
    "   + \"<source src=\\\"https://archive.org/download/WebmVp8Vorbis/webmvp8.ogv\\\" type=\\\"video/ogg\\\">\"\n",
    "   + \"Your browser doesn't support HTML5 video tag.\"\n",
    "   + \"</video>\"; \n",
    "   \n",
    "video.AsHtml()"
   ]
  },
  {
   "cell_type": "markdown",
   "metadata": {},
   "source": [
    "# Charts\n",
    "\n",
    "It is also possible to render graph using using XPlot.Plotly. For example: "
   ]
  },
  {
   "cell_type": "code",
   "execution_count": 3,
   "metadata": {
    "collapsed": false
   },
   "outputs": [
    {
     "data": {
      "text/plain": [
       "int[3, 3] { { 1, 20, 30 }, { 20, 1, 60 }, { 30, 60, 1 } }"
      ]
     },
     "execution_count": 3,
     "metadata": {},
     "output_type": "execute_result"
    }
   ],
   "source": [
    "#load \"XPlot.Plotly.csx\"\n",
    "\n",
    "new int[,] data = {{1, 20, 30}, {20, 1, 60}, {30, 60 ,1}}; \n",
    "\n",
    "data"
   ]
  },
  {
   "cell_type": "code",
   "execution_count": 1,
   "metadata": {
    "collapsed": false
   },
   "outputs": [
    {
     "data": {
      "text/html": [
       "<div id=\"8763e6ac-b83f-445f-8c0a-dec7aa3e0a44\" style=\"width: 700px; height: 500px;\"></div>\r\n",
       "        <script>\r\n",
       "            var data = [{\"type\":\"heatmap\",\"z\":[[1,20,30],[20,1,60],[30,60,1]]}];\r\n",
       "            var layout = {\"title\":\"Heatmap example!\"};\r\n",
       "            Plotly.newPlot('8763e6ac-b83f-445f-8c0a-dec7aa3e0a44', data, layout);\r\n",
       "        </script>"
      ]
     },
     "execution_count": 1,
     "metadata": {},
     "output_type": "execute_result"
    }
   ],
   "source": [
    "Graph.Heatmap h = new Graph.Heatmap();\n",
    "h.z = new int[,] { { 1, 20, 30 }, { 20, 1, 60 }, { 30, 60, 1 } };\n",
    "\n",
    "var chart = Chart.Plot(h);\n",
    "chart.WithLayout(new Layout.Layout() { title = \"Heatmap example!\" });\n",
    "chart.WithHeight(500);\n",
    "chart.WithWidth(700);\n",
    "\n",
    "string html = chart.GetInlineHtml();\n",
    "\n",
    "html.AsHtml()"
   ]
  },
  {
   "cell_type": "markdown",
   "metadata": {
    "collapsed": true
   },
   "source": [
    "## Notes and Credits \n",
    "\n",
    "This notebook loosely based on the demo notebook from the [IFsharp Kernel](https://github.com/fsprojects/IfSharp). \n",
    "Big kudos for the F# community for putting such a cool kernel together.  "
   ]
  }
 ],
 "metadata": {
  "kernelspec": {
   "display_name": "C#",
   "language": "csharp",
   "name": "icsharpkernel"
  },
  "language": "csharp",
  "language_info": {
   "codemirror_mode": "",
   "file_extension": ".cs",
   "mimetype": "text/x-csharp",
   "name": "csharp",
   "nbconvert_exporter": "",
   "pygments_lexer": "",
   "version": "6.0.0.0"
  }
 },
 "nbformat": 4,
 "nbformat_minor": 2
}
